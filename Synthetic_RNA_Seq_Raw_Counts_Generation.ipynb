{
  "nbformat": 4,
  "nbformat_minor": 0,
  "metadata": {
    "colab": {
      "provenance": [],
      "authorship_tag": "ABX9TyP+1I0TyhMjI60gdAte74DJ",
      "include_colab_link": true
    },
    "kernelspec": {
      "name": "python3",
      "display_name": "Python 3"
    },
    "language_info": {
      "name": "python"
    }
  },
  "cells": [
    {
      "cell_type": "markdown",
      "metadata": {
        "id": "view-in-github",
        "colab_type": "text"
      },
      "source": [
        "<a href=\"https://colab.research.google.com/github/stef1949/Synthetic-RNA-Seq-Raw-Counts-Generator/blob/main/Synthetic_RNA_Seq_Raw_Counts_Generation.ipynb\" target=\"_parent\"><img src=\"https://colab.research.google.com/assets/colab-badge.svg\" alt=\"Open In Colab\"/></a>"
      ]
    },
    {
      "cell_type": "code",
      "source": [
        "!pip install --upgrade pip\n",
        "!pip install cupy-cuda12x"
      ],
      "metadata": {
        "colab": {
          "base_uri": "https://localhost:8080/"
        },
        "id": "vRDE_kca6J51",
        "outputId": "4842f6db-3aa9-4775-e8e9-71746f47a8f2"
      },
      "execution_count": null,
      "outputs": [
        {
          "output_type": "stream",
          "name": "stdout",
          "text": [
            "Requirement already satisfied: cupy-cuda12x in /usr/local/lib/python3.11/dist-packages (13.3.0)\n",
            "Requirement already satisfied: numpy<2.3,>=1.22 in /usr/local/lib/python3.11/dist-packages (from cupy-cuda12x) (2.0.2)\n",
            "Requirement already satisfied: fastrlock>=0.5 in /usr/local/lib/python3.11/dist-packages (from cupy-cuda12x) (0.8.3)\n"
          ]
        }
      ]
    },
    {
      "cell_type": "code",
      "source": [
        "# GPU Accellerated workflow\n",
        "#!pip install cupy-cuda12x"
      ],
      "metadata": {
        "id": "_OXCPblR7dSF"
      },
      "execution_count": null,
      "outputs": []
    },
    {
      "cell_type": "code",
      "source": [
        "#import cupy as cp\n",
        "import numpy as np  # Still needed for some CPU operations (e.g., Pandas conversion)\n",
        "import pandas as pd"
      ],
      "metadata": {
        "id": "9i1o_wuO54Uy"
      },
      "execution_count": null,
      "outputs": []
    },
    {
      "cell_type": "markdown",
      "source": [
        "# Synthetic Bulk RNA-Seq Dataset Generation\n",
        "\n",
        "Script to generate synthetic bulk RNA-seq count data with batch effects for batch correction evaluation. An optimized version that vectorizes the count generation to improve performance.\n",
        "    \n",
        "## Parameters:\n",
        "* n_genes (int): Number of genes to simulate.\n",
        "* n_samples (int): Total number of samples (should be divisible by n_batches).\n",
        "* n_batches (int): Number of batches.\n",
        "* de_fraction (float): Fraction of genes that are differentially expressed in treatment samples.\n",
        "* fold_change (float): Fold change applied to the mean of differentially expressed genes in treatment.\n",
        "* dispersion (float): Dispersion parameter for the negative binomial distribution.\n",
        "* batch_effect_sigma (float): Standard deviation for batch effects (log-normal sigma).\n",
        "* seed (int): Random seed for reproducibility.\n",
        "    \n",
        "## Output:\n",
        "* pd.DataFrame: Count matrix with gene IDs as rows and sample IDs as columns.\n",
        "* pd.DataFrame: Sample metadata with condition and batch information.\n",
        "\n",
        "### Contact\n",
        "For more information https://github.com/stef1949 :3"
      ],
      "metadata": {
        "id": "c84FDUsz7tza"
      }
    },
    {
      "cell_type": "code",
      "source": [
        "# CPU version\n",
        "\n",
        "#!/usr/bin/env python3\n",
        "\n",
        "def generate_synthetic_rnaseq_data(n_genes=10000, n_samples=12, n_batches=2, de_fraction=0.1,\n",
        "                                   fold_change=2.0, dispersion=0.2, batch_effect_sigma=0.2, seed=123):\n",
        "    \"\"\"\n",
        "    Generate synthetic RNA-seq count data with batch effects using vectorized operations.\n",
        "\n",
        "    Parameters:\n",
        "        n_genes (int): Number of genes to simulate.\n",
        "        n_samples (int): Total number of samples (should be divisible by n_batches).\n",
        "        n_batches (int): Number of batches.\n",
        "        de_fraction (float): Fraction of genes that are differentially expressed in treatment samples.\n",
        "        fold_change (float): Fold change applied to the mean of differentially expressed genes in treatment.\n",
        "        dispersion (float): Dispersion parameter for the negative binomial distribution.\n",
        "        batch_effect_sigma (float): Standard deviation for batch effects (log-normal sigma).\n",
        "        seed (int): Random seed for reproducibility.\n",
        "\n",
        "    Returns:\n",
        "        pd.DataFrame: Count matrix with gene IDs as rows and sample IDs as columns.\n",
        "        pd.DataFrame: Sample metadata with condition and batch information.\n",
        "    \"\"\"\n",
        "    np.random.seed(seed)\n",
        "\n",
        "    # Ensure that n_samples is divisible by n_batches\n",
        "    if n_samples % n_batches != 0:\n",
        "        raise ValueError(\"n_samples must be divisible by n_batches\")\n",
        "\n",
        "    samples_per_batch = n_samples // n_batches\n",
        "\n",
        "    # Create sample metadata: for each batch, assign an equal number of control and treatment samples.\n",
        "    conditions = []\n",
        "    batches = []\n",
        "    for b in range(n_batches):\n",
        "        if samples_per_batch % 2 == 0:\n",
        "            conds = [\"control\"] * (samples_per_batch // 2) + [\"treatment\"] * (samples_per_batch // 2)\n",
        "        else:\n",
        "            half = samples_per_batch // 2\n",
        "            conds = [\"control\"] * half + [\"treatment\"] * (samples_per_batch - half)\n",
        "        conditions.extend(conds)\n",
        "        batches.extend([f\"Batch_{b+1}\"] * samples_per_batch)\n",
        "\n",
        "    # Generate baseline expression means for each gene from a log-normal distribution.\n",
        "    mu = np.random.lognormal(mean=4, sigma=1, size=n_genes)  # Shape: (n_genes,)\n",
        "\n",
        "    # Determine the number of differentially expressed (DE) genes.\n",
        "    n_de = int(de_fraction * n_genes)\n",
        "\n",
        "    # Simulate batch effects for each batch.\n",
        "    batch_effects = {}\n",
        "    for b in range(n_batches):\n",
        "        batch_label = f\"Batch_{b+1}\"\n",
        "        batch_effects[batch_label] = np.random.lognormal(mean=0, sigma=batch_effect_sigma, size=n_genes)\n",
        "\n",
        "    # Construct a matrix for batch effects with shape (n_genes, n_samples)\n",
        "    batch_effect_matrix = np.column_stack([batch_effects[batch] for batch in batches])\n",
        "\n",
        "    # Build condition effect matrix: for each sample, DE genes (first n_de) in treatment have increased expression.\n",
        "    condition_effect_matrix = np.ones((n_genes, n_samples))\n",
        "    for j, cond in enumerate(conditions):\n",
        "        if cond == \"treatment\":\n",
        "            condition_effect_matrix[:n_de, j] = fold_change\n",
        "\n",
        "    # Compute the final mean for each gene in each sample.\n",
        "    # mu[:, None] has shape (n_genes, 1) and broadcasts across all samples.\n",
        "    final_mu = mu[:, None] * condition_effect_matrix * batch_effect_matrix\n",
        "\n",
        "    # Negative binomial parameters: r is constant for all genes.\n",
        "    r = 1.0 / dispersion\n",
        "    # Compute success probability for each gene-sample combination.\n",
        "    p = r / (r + final_mu)\n",
        "\n",
        "    # Generate the count matrix in a vectorized fashion.\n",
        "    counts = np.random.negative_binomial(r, p)\n",
        "\n",
        "    # Create DataFrame with gene and sample identifiers.\n",
        "    gene_ids = [f\"Gene_{i+1}\" for i in range(n_genes)]\n",
        "    sample_ids = [f\"Sample_{j+1}\" for j in range(n_samples)]\n",
        "    counts_df = pd.DataFrame(counts, index=gene_ids, columns=sample_ids)\n",
        "\n",
        "    # Create a DataFrame for sample metadata.\n",
        "    metadata_df = pd.DataFrame({\n",
        "        \"SampleID\": sample_ids,\n",
        "        \"Condition\": conditions,\n",
        "        \"Batch\": batches\n",
        "    })\n",
        "\n",
        "    return counts_df, metadata_df\n",
        "\n",
        "if __name__ == \"__main__\":\n",
        "    # Generate the synthetic RNA-seq data with batch effects.\n",
        "    counts_df, metadata_df = generate_synthetic_rnaseq_data(\n",
        "        n_genes=10000,         # number of genes\n",
        "        n_samples=12,          # total number of samples (e.g., 6 per batch if n_batches=2)\n",
        "        n_batches=2,           # number of batches\n",
        "        de_fraction=0.1,       # 10% of genes are differentially expressed\n",
        "        fold_change=2.0,       # 2-fold upregulation in treatment for DE genes\n",
        "        dispersion=0.2,        # dispersion parameter for count variability\n",
        "        batch_effect_sigma=0.2,  # variability of batch effects\n",
        "        seed=123               # seed for reproducibility\n",
        "    )\n",
        "\n",
        "    # Save the count matrix and metadata to CSV files.\n",
        "    counts_df.to_csv(\"synthetic_bulk_rnaseq_counts_batches.csv\")\n",
        "    metadata_df.to_csv(\"sample_metadata.csv\", index=False)\n",
        "    print(\"Synthetic RNA-seq count data with batch effects saved to 'synthetic_bulk_rnaseq_counts_batches.csv'\")\n",
        "    print(\"Sample metadata saved to 'sample_metadata.csv'\")"
      ],
      "metadata": {
        "colab": {
          "base_uri": "https://localhost:8080/"
        },
        "id": "hg0pMoS56xx6",
        "outputId": "4c9a95ed-3f16-45a4-b59f-3280ba374a68"
      },
      "execution_count": null,
      "outputs": [
        {
          "output_type": "stream",
          "name": "stdout",
          "text": [
            "Synthetic RNA-seq count data with batch effects saved to 'synthetic_bulk_rnaseq_counts_batches.csv'\n",
            "Sample metadata saved to 'sample_metadata.csv'\n"
          ]
        }
      ]
    },
    {
      "cell_type": "code",
      "execution_count": null,
      "metadata": {
        "colab": {
          "base_uri": "https://localhost:8080/",
          "height": 472
        },
        "id": "_Ey1d4wO5vB9",
        "outputId": "e199d461-f647-4a78-8432-090ccb92a898"
      },
      "outputs": [
        {
          "output_type": "error",
          "ename": "CUDARuntimeError",
          "evalue": "cudaErrorInsufficientDriver: CUDA driver version is insufficient for CUDA runtime version",
          "traceback": [
            "\u001b[0;31m---------------------------------------------------------------------------\u001b[0m",
            "\u001b[0;31mCUDARuntimeError\u001b[0m                          Traceback (most recent call last)",
            "\u001b[0;32m<ipython-input-6-cbce48c7d6e2>\u001b[0m in \u001b[0;36m<cell line: 0>\u001b[0;34m()\u001b[0m\n\u001b[1;32m     58\u001b[0m \u001b[0;34m\u001b[0m\u001b[0m\n\u001b[1;32m     59\u001b[0m \u001b[0;32mif\u001b[0m \u001b[0m__name__\u001b[0m \u001b[0;34m==\u001b[0m \u001b[0;34m\"__main__\"\u001b[0m\u001b[0;34m:\u001b[0m\u001b[0;34m\u001b[0m\u001b[0;34m\u001b[0m\u001b[0m\n\u001b[0;32m---> 60\u001b[0;31m     counts_df, metadata_df = generate_synthetic_rnaseq_data_gpu(\n\u001b[0m\u001b[1;32m     61\u001b[0m         \u001b[0mn_genes\u001b[0m\u001b[0;34m=\u001b[0m\u001b[0;36m10000\u001b[0m\u001b[0;34m,\u001b[0m\u001b[0;34m\u001b[0m\u001b[0;34m\u001b[0m\u001b[0m\n\u001b[1;32m     62\u001b[0m         \u001b[0mn_samples\u001b[0m\u001b[0;34m=\u001b[0m\u001b[0;36m12\u001b[0m\u001b[0;34m,\u001b[0m\u001b[0;34m\u001b[0m\u001b[0;34m\u001b[0m\u001b[0m\n",
            "\u001b[0;32m<ipython-input-6-cbce48c7d6e2>\u001b[0m in \u001b[0;36mgenerate_synthetic_rnaseq_data_gpu\u001b[0;34m(n_genes, n_samples, n_batches, de_fraction, fold_change, dispersion, batch_effect_sigma, seed)\u001b[0m\n\u001b[1;32m      1\u001b[0m def generate_synthetic_rnaseq_data_gpu(n_genes=10000, n_samples=12, n_batches=2, de_fraction=0.1,\n\u001b[1;32m      2\u001b[0m                                        fold_change=2.0, dispersion=0.2, batch_effect_sigma=0.2, seed=123):\n\u001b[0;32m----> 3\u001b[0;31m     \u001b[0mcp\u001b[0m\u001b[0;34m.\u001b[0m\u001b[0mrandom\u001b[0m\u001b[0;34m.\u001b[0m\u001b[0mseed\u001b[0m\u001b[0;34m(\u001b[0m\u001b[0mseed\u001b[0m\u001b[0;34m)\u001b[0m\u001b[0;34m\u001b[0m\u001b[0;34m\u001b[0m\u001b[0m\n\u001b[0m\u001b[1;32m      4\u001b[0m \u001b[0;34m\u001b[0m\u001b[0m\n\u001b[1;32m      5\u001b[0m     \u001b[0;32mif\u001b[0m \u001b[0mn_samples\u001b[0m \u001b[0;34m%\u001b[0m \u001b[0mn_batches\u001b[0m \u001b[0;34m!=\u001b[0m \u001b[0;36m0\u001b[0m\u001b[0;34m:\u001b[0m\u001b[0;34m\u001b[0m\u001b[0;34m\u001b[0m\u001b[0m\n",
            "\u001b[0;32m/usr/local/lib/python3.11/dist-packages/cupy/random/_generator.py\u001b[0m in \u001b[0;36mseed\u001b[0;34m(seed)\u001b[0m\n\u001b[1;32m   1278\u001b[0m \u001b[0;34m\u001b[0m\u001b[0m\n\u001b[1;32m   1279\u001b[0m     \"\"\"\n\u001b[0;32m-> 1280\u001b[0;31m     \u001b[0mget_random_state\u001b[0m\u001b[0;34m(\u001b[0m\u001b[0;34m)\u001b[0m\u001b[0;34m.\u001b[0m\u001b[0mseed\u001b[0m\u001b[0;34m(\u001b[0m\u001b[0mseed\u001b[0m\u001b[0;34m)\u001b[0m\u001b[0;34m\u001b[0m\u001b[0;34m\u001b[0m\u001b[0m\n\u001b[0m\u001b[1;32m   1281\u001b[0m \u001b[0;34m\u001b[0m\u001b[0m\n\u001b[1;32m   1282\u001b[0m \u001b[0;34m\u001b[0m\u001b[0m\n",
            "\u001b[0;32m/usr/local/lib/python3.11/dist-packages/cupy/random/_generator.py\u001b[0m in \u001b[0;36mget_random_state\u001b[0;34m()\u001b[0m\n\u001b[1;32m   1304\u001b[0m \u001b[0;34m\u001b[0m\u001b[0m\n\u001b[1;32m   1305\u001b[0m     \"\"\"\n\u001b[0;32m-> 1306\u001b[0;31m     \u001b[0mdev\u001b[0m \u001b[0;34m=\u001b[0m \u001b[0mcuda\u001b[0m\u001b[0;34m.\u001b[0m\u001b[0mDevice\u001b[0m\u001b[0;34m(\u001b[0m\u001b[0;34m)\u001b[0m\u001b[0;34m\u001b[0m\u001b[0;34m\u001b[0m\u001b[0m\n\u001b[0m\u001b[1;32m   1307\u001b[0m     \u001b[0mrs\u001b[0m \u001b[0;34m=\u001b[0m \u001b[0m_random_states\u001b[0m\u001b[0;34m.\u001b[0m\u001b[0mget\u001b[0m\u001b[0;34m(\u001b[0m\u001b[0mdev\u001b[0m\u001b[0;34m.\u001b[0m\u001b[0mid\u001b[0m\u001b[0;34m,\u001b[0m \u001b[0;32mNone\u001b[0m\u001b[0;34m)\u001b[0m\u001b[0;34m\u001b[0m\u001b[0;34m\u001b[0m\u001b[0m\n\u001b[1;32m   1308\u001b[0m     \u001b[0;32mif\u001b[0m \u001b[0mrs\u001b[0m \u001b[0;32mis\u001b[0m \u001b[0;32mNone\u001b[0m\u001b[0;34m:\u001b[0m\u001b[0;34m\u001b[0m\u001b[0;34m\u001b[0m\u001b[0m\n",
            "\u001b[0;32mcupy/cuda/device.pyx\u001b[0m in \u001b[0;36mcupy.cuda.device.Device.__init__\u001b[0;34m()\u001b[0m\n",
            "\u001b[0;32mcupy_backends/cuda/api/runtime.pyx\u001b[0m in \u001b[0;36mcupy_backends.cuda.api.runtime.getDevice\u001b[0;34m()\u001b[0m\n",
            "\u001b[0;32mcupy_backends/cuda/api/runtime.pyx\u001b[0m in \u001b[0;36mcupy_backends.cuda.api.runtime.check_status\u001b[0;34m()\u001b[0m\n",
            "\u001b[0;31mCUDARuntimeError\u001b[0m: cudaErrorInsufficientDriver: CUDA driver version is insufficient for CUDA runtime version"
          ]
        }
      ],
      "source": [
        "# GPU-Accelerated version\n",
        "def generate_synthetic_rnaseq_data_gpu(n_genes=10000, n_samples=12, n_batches=2, de_fraction=0.1,\n",
        "                                       fold_change=2.0, dispersion=0.2, batch_effect_sigma=0.2, seed=123):\n",
        "    cp.random.seed(seed)\n",
        "\n",
        "    if n_samples % n_batches != 0:\n",
        "        raise ValueError(\"n_samples must be divisible by n_batches\")\n",
        "    samples_per_batch = n_samples // n_batches\n",
        "\n",
        "    conditions, batches = [], []\n",
        "    for b in range(n_batches):\n",
        "        if samples_per_batch % 2 == 0:\n",
        "            conds = [\"control\"] * (samples_per_batch // 2) + [\"treatment\"] * (samples_per_batch // 2)\n",
        "        else:\n",
        "            half = samples_per_batch // 2\n",
        "            conds = [\"control\"] * half + [\"treatment\"] * (samples_per_batch - half)\n",
        "        conditions.extend(conds)\n",
        "        batches.extend([f\"Batch_{b+1}\"] * samples_per_batch)\n",
        "\n",
        "    # Generate baseline expression means on the GPU.\n",
        "    mu = cp.random.lognormal(mean=4, sigma=1, size=n_genes)  # shape: (n_genes,)\n",
        "\n",
        "    n_de = int(de_fraction * n_genes)\n",
        "\n",
        "    # Simulate batch effects for each batch and stack them into a matrix.\n",
        "    batch_effect_matrix = cp.column_stack([\n",
        "        cp.random.lognormal(mean=0, sigma=batch_effect_sigma, size=n_genes) for _ in batches\n",
        "    ])\n",
        "\n",
        "    # Build the condition effect matrix.\n",
        "    condition_effect_matrix = cp.ones((n_genes, n_samples))\n",
        "    for j, cond in enumerate(conditions):\n",
        "        if cond == \"treatment\":\n",
        "            condition_effect_matrix[:n_de, j] = fold_change\n",
        "\n",
        "    # Compute the final mean expression matrix.\n",
        "    final_mu = mu[:, None] * condition_effect_matrix * batch_effect_matrix\n",
        "\n",
        "    # Negative binomial parameters.\n",
        "    r = 1.0 / dispersion\n",
        "    p = r / (r + final_mu)\n",
        "\n",
        "    # Generate counts on the GPU.\n",
        "    counts = cp.random.negative_binomial(r, p)\n",
        "\n",
        "    # Convert results to NumPy arrays for Pandas.\n",
        "    counts_np = cp.asnumpy(counts)\n",
        "    gene_ids = [f\"Gene_{i+1}\" for i in range(n_genes)]\n",
        "    sample_ids = [f\"Sample_{j+1}\" for j in range(n_samples)]\n",
        "    counts_df = pd.DataFrame(counts_np, index=gene_ids, columns=sample_ids)\n",
        "\n",
        "    metadata_df = pd.DataFrame({\n",
        "        \"SampleID\": sample_ids,\n",
        "        \"Condition\": conditions,\n",
        "        \"Batch\": batches\n",
        "    })\n",
        "\n",
        "    return counts_df, metadata_df\n",
        "\n",
        "if __name__ == \"__main__\":\n",
        "    counts_df, metadata_df = generate_synthetic_rnaseq_data_gpu(\n",
        "        n_genes=10000,\n",
        "        n_samples=12,\n",
        "        n_batches=2,\n",
        "        de_fraction=0.1,\n",
        "        fold_change=2.0,\n",
        "        dispersion=0.2,\n",
        "        batch_effect_sigma=0.2,\n",
        "        seed=123\n",
        "    )\n",
        "\n",
        "    counts_df.to_csv(\"synthetic_bulk_rnaseq_counts_batches_gpu.csv\")\n",
        "    metadata_df.to_csv(\"sample_metadata_gpu.csv\", index=False)\n",
        "    print(\"Synthetic RNA-seq count data with GPU acceleration saved to 'synthetic_bulk_rnaseq_counts_batches_gpu.csv'\")\n",
        "    print(\"Sample metadata saved to 'sample_metadata_gpu.csv'\")"
      ]
    }
  ]
}